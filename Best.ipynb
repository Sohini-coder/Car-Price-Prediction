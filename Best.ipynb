{
  "nbformat": 4,
  "nbformat_minor": 0,
  "metadata": {
    "colab": {
      "provenance": []
    },
    "kernelspec": {
      "name": "python3",
      "display_name": "Python 3"
    },
    "language_info": {
      "name": "python"
    }
  },
  "cells": [
    {
      "cell_type": "code",
      "source": [
        "import pandas as pd\n",
        "import numpy as np\n",
        "from sklearn.pipeline import Pipeline\n",
        "from sklearn.model_selection import KFold\n",
        "from sklearn.compose import ColumnTransformer\n",
        "from sklearn.preprocessing import OneHotEncoder, StandardScaler\n",
        "from sklearn.ensemble import RandomForestRegressor\n",
        "from sklearn.metrics import r2_score, mean_absolute_error, mean_squared_error\n",
        "import pickle\n",
        "\n",
        "# Load your final dataset\n",
        "df = pd.read_csv(\"dataset_1400.csv\")\n",
        "df.dropna(inplace=True)\n",
        "\n",
        "# Define features\n",
        "categorical = ['Brand', 'Model', 'Fuel_Type', 'Transmission']\n",
        "numerical = [col for col in df.columns if col not in categorical + ['Resale_Value']]\n",
        "X = df.drop(\"Resale_Value\", axis=1)\n",
        "y = df[\"Resale_Value\"]\n",
        "\n",
        "# Preprocessing\n",
        "preprocessor = ColumnTransformer([\n",
        "    (\"onehot\", OneHotEncoder(handle_unknown=\"ignore\"), categorical),\n",
        "    (\"scale\", StandardScaler(), numerical)\n",
        "])\n",
        "\n",
        "# Define K-Fold\n",
        "kf = KFold(n_splits=5, shuffle=True, random_state=42)\n",
        "\n",
        "best_r2 = -1\n",
        "best_pipeline = None\n",
        "\n",
        "# Train over folds\n",
        "for fold, (train_idx, test_idx) in enumerate(kf.split(X, y), 1):\n",
        "    X_train, X_test = X.iloc[train_idx], X.iloc[test_idx]\n",
        "    y_train, y_test = y.iloc[train_idx], y.iloc[test_idx]\n",
        "\n",
        "    pipeline = Pipeline([\n",
        "        (\"preprocessor\", preprocessor),\n",
        "        (\"model\", RandomForestRegressor(n_estimators=200, random_state=42))\n",
        "    ])\n",
        "\n",
        "    pipeline.fit(X_train, y_train)\n",
        "    y_pred = pipeline.predict(X_test)\n",
        "\n",
        "    r2 = r2_score(y_test, y_pred)\n",
        "    mae = mean_absolute_error(y_test, y_pred)\n",
        "    rmse = np.sqrt(mean_squared_error(y_test, y_pred))\n",
        "\n",
        "    print(f\"📁 Fold {fold} — R²: {r2:.4f} | MAE: ₹{int(mae)} | RMSE: ₹{int(rmse)}\")\n",
        "\n",
        "    if r2 > best_r2:\n",
        "        best_r2 = r2\n",
        "        best_pipeline = pipeline\n",
        "\n",
        "# ✅ Save the best pipeline\n",
        "with open(\"random_forest_final.pkl\", \"wb\") as f:\n",
        "    pickle.dump(best_pipeline, f)\n",
        "\n",
        "print(\"✅ Best model pickled as 'random_forest_final.pkl'\")\n"
      ],
      "metadata": {
        "colab": {
          "base_uri": "https://localhost:8080/"
        },
        "id": "OfL7Hj7ES_NI",
        "outputId": "5a5e8455-400e-46af-9fc5-9c225861609b"
      },
      "execution_count": 7,
      "outputs": [
        {
          "output_type": "stream",
          "name": "stdout",
          "text": [
            "📁 Fold 1 — R²: 0.9559 | MAE: ₹50131 | RMSE: ₹110824\n",
            "📁 Fold 2 — R²: 0.9538 | MAE: ₹48336 | RMSE: ₹103501\n",
            "📁 Fold 3 — R²: 0.9350 | MAE: ₹62778 | RMSE: ₹145333\n",
            "📁 Fold 4 — R²: 0.9260 | MAE: ₹51363 | RMSE: ₹123309\n",
            "📁 Fold 5 — R²: 0.9414 | MAE: ₹62423 | RMSE: ₹127477\n",
            "✅ Best model pickled as 'random_forest_final.pkl'\n"
          ]
        }
      ]
    },
    {
      "cell_type": "code",
      "source": [
        "# Save final feature names for Streamlit chart\n",
        "final_feature_names = best_pipeline.named_steps[\"preprocessor\"].get_feature_names_out()\n",
        "import pickle\n",
        "with open(\"feature_names.pkl\", \"wb\") as f:\n",
        "    pickle.dump(final_feature_names, f)\n"
      ],
      "metadata": {
        "id": "IVp1cmYYY8Yy"
      },
      "execution_count": 8,
      "outputs": []
    },
    {
      "cell_type": "code",
      "source": [
        "# Save categories seen by OneHotEncoder\n",
        "encoder = pipeline.named_steps['preprocessor'].named_transformers_['onehot']\n",
        "with open(\"category_levels.pkl\", \"wb\") as f:\n",
        "    pickle.dump(encoder.categories_, f)"
      ],
      "metadata": {
        "id": "I52A-6EliVby"
      },
      "execution_count": 9,
      "outputs": []
    }
  ]
}